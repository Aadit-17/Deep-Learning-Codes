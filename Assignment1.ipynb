{
 "cells": [
  {
   "cell_type": "markdown",
   "id": "c6525925-f5ac-4ba1-a788-c633f532fea3",
   "metadata": {},
   "source": [
    "## Neural Network Topology [Feedforward]"
   ]
  },
  {
   "cell_type": "markdown",
   "id": "50356e58-acad-4025-8cb5-2e4bba506696",
   "metadata": {},
   "source": [
    "#### Q1 Write a Python Program to train the following Neural Network with single neuron. Let you start to train the network with w=3, 6 and 9."
   ]
  },
  {
   "cell_type": "code",
   "execution_count": 1,
   "id": "60b10803-8eee-4c5c-8e90-59801f8ce960",
   "metadata": {},
   "outputs": [
    {
     "name": "stdin",
     "output_type": "stream",
     "text": [
      "Enter the Value of Weight 3\n"
     ]
    },
    {
     "name": "stdout",
     "output_type": "stream",
     "text": [
      "Predicted Output:  [ 0  3  6  9 12]\n",
      "Desired Output:  [ 0  6 12 18 24]\n",
      "Errors [  0  -3  -6  -9 -12]\n",
      "Squared Errors [  0   9  36  81 144]\n",
      "Mean Squared Errors 54.0\n"
     ]
    },
    {
     "name": "stdin",
     "output_type": "stream",
     "text": [
      "Enter the Value of Weight 6\n"
     ]
    },
    {
     "name": "stdout",
     "output_type": "stream",
     "text": [
      "Predicted Output:  [ 0  6 12 18 24]\n",
      "Desired Output:  [ 0  6 12 18 24]\n",
      "Errors [0 0 0 0 0]\n",
      "Squared Errors [0 0 0 0 0]\n",
      "Mean Squared Errors 0.0\n"
     ]
    },
    {
     "name": "stdin",
     "output_type": "stream",
     "text": [
      "Enter the Value of Weight 9\n"
     ]
    },
    {
     "name": "stdout",
     "output_type": "stream",
     "text": [
      "Predicted Output:  [ 0  9 18 27 36]\n",
      "Desired Output:  [ 0  6 12 18 24]\n",
      "Errors [ 0  3  6  9 12]\n",
      "Squared Errors [  0   9  36  81 144]\n",
      "Mean Squared Errors 54.0\n"
     ]
    }
   ],
   "source": [
    "import numpy as np\n",
    "\n",
    "train_inputs = np.array([0,1,2,3,4])\n",
    "train_outputs = np.array([0, 6, 12, 18,24])\n",
    "for i in range(3):\n",
    "    Weight=int(input(\"Enter the Value of Weight\"))\n",
    "    pred_output=train_inputs*Weight\n",
    "    error=pred_output-train_outputs\n",
    "    squared_error = error**2\n",
    "    mse = np.mean(squared_error)\n",
    "    print(\"Predicted Output: \",pred_output)\n",
    "    print(\"Desired Output: \",train_outputs)\n",
    "    print(\"Errors\",error)\n",
    "    print(\"Squared Errors\", squared_error)\n",
    "    print(\"Mean Squared Errors\", mse)"
   ]
  },
  {
   "cell_type": "markdown",
   "id": "75043936-6869-4255-9dcf-51962cddb64d",
   "metadata": {},
   "source": [
    "#### Q2 Construct a Feedforward Network with Single Neuron and 3 inputs"
   ]
  },
  {
   "cell_type": "code",
   "execution_count": 2,
   "id": "e032635a-3648-423d-b530-01cc5f0aaa41",
   "metadata": {},
   "outputs": [
    {
     "name": "stdout",
     "output_type": "stream",
     "text": [
      "Weighted Matrix : \n",
      "[[4.17022005e-01]\n",
      " [7.20324493e-01]\n",
      " [1.14374817e-04]]\n",
      "Input: \n",
      "[[1 2 3]\n",
      " [1 0 2]\n",
      " [0 1 4]\n",
      " [2 1 4]]\n",
      "Predicted Output: \n",
      "[[0.86506531]\n",
      " [0.60282519]\n",
      " [0.67277919]\n",
      " [0.82560966]]\n"
     ]
    }
   ],
   "source": [
    "D = np.array([[1, 2, 3], #dataset\n",
    "            [1, 0, 2],\n",
    "            [0, 1, 4],\n",
    "            [2, 1, 4]])\n",
    "\n",
    "#initialize weight matrix\n",
    "np.random.seed(1)\n",
    "w = np.random.random((3,1))\n",
    "print(\"Weighted Matrix : \")\n",
    "print(w)\n",
    "\n",
    "#Forward Pass\n",
    "for iteration in range(1):\n",
    "    iLayer = D\n",
    "    oPer = np.dot(iLayer, w) #Perception\n",
    "    oLayer = 1/(1+np.exp(-oPer)) #Sigmoid\n",
    "    \n",
    "print(\"Input: \")\n",
    "print(D)\n",
    "print(\"Predicted Output: \")\n",
    "print(oLayer)"
   ]
  },
  {
   "cell_type": "markdown",
   "id": "cd64059a-f38e-446b-b958-576d37361c70",
   "metadata": {},
   "source": [
    "#### Q3 Construct a Feed forward Network using Two Neurons in the output layer and 3 neurons in the input layer"
   ]
  },
  {
   "cell_type": "code",
   "execution_count": 3,
   "id": "c1d45162-ed13-43d4-b4c6-5c4ea5890893",
   "metadata": {},
   "outputs": [
    {
     "name": "stdout",
     "output_type": "stream",
     "text": [
      "Weighted Matrix : \n",
      "[[4.17022005e-01 7.20324493e-01]\n",
      " [1.14374817e-04 3.02332573e-01]\n",
      " [1.46755891e-01 9.23385948e-02]]\n",
      "Input: \n",
      "[[1 2 3]\n",
      " [1 0 2]\n",
      " [0 1 4]\n",
      " [2 1 4]]\n",
      "Predicted Output: \n",
      "[[0.70214192 0.83229848]\n",
      " [0.6705191  0.71197626]\n",
      " [0.64270819 0.66188079]\n",
      " [0.80552364 0.8920964 ]]\n"
     ]
    }
   ],
   "source": [
    "D = np.array([[1, 2, 3], #dataset\n",
    "            [1, 0, 2],\n",
    "            [0, 1, 4],\n",
    "            [2, 1, 4]])\n",
    "\n",
    "#initialize weight matrix\n",
    "np.random.seed(1)\n",
    "w = np.random.random((3,2))\n",
    "print(\"Weighted Matrix : \")\n",
    "print(w)\n",
    "\n",
    "#Forward Pass\n",
    "for iteration in range(1):\n",
    "    iLayer = D\n",
    "    oPer = np.dot(iLayer, w) #Perception\n",
    "    oLayer = 1/(1+np.exp(-oPer)) #Sigmoid\n",
    "    \n",
    "print(\"Input: \")\n",
    "print(D)\n",
    "print(\"Predicted Output: \")\n",
    "print(oLayer)"
   ]
  },
  {
   "cell_type": "markdown",
   "id": "a299a12b-c475-4e59-bb8b-7a8b26c749df",
   "metadata": {},
   "source": [
    "#### Q4 Construct a Feed forward Network using Two Neurons in the output layer, 3 neurons in the input layer and 4 neuron in the hidden layer"
   ]
  },
  {
   "cell_type": "code",
   "execution_count": 4,
   "id": "bf7344aa-f568-4b1d-9e03-ab1485874e98",
   "metadata": {},
   "outputs": [
    {
     "name": "stdout",
     "output_type": "stream",
     "text": [
      "W Weighted Matrix : \n",
      "[[4.17022005e-01 7.20324493e-01 1.14374817e-04 3.02332573e-01]\n",
      " [1.46755891e-01 9.23385948e-02 1.86260211e-01 3.45560727e-01]\n",
      " [3.96767474e-01 5.38816734e-01 4.19194514e-01 6.85219500e-01]]\n",
      "V Weighted Matrix : \n",
      "[[0.20445225 0.87811744]\n",
      " [0.02738759 0.67046751]\n",
      " [0.4173048  0.55868983]\n",
      " [0.14038694 0.19810149]]\n",
      "Input: \n",
      "[[1 2 3]\n",
      " [1 0 2]\n",
      " [0 1 4]\n",
      " [2 1 4]]\n",
      "Predicted Output: \n",
      "[[0.66512221 0.88502169]\n",
      " [0.64349012 0.85918454]\n",
      " [0.66686308 0.88347877]\n",
      " [0.67146728 0.89535013]]\n"
     ]
    }
   ],
   "source": [
    "D = np.array([[1, 2, 3], #dataset\n",
    "            [1, 0, 2],\n",
    "            [0, 1, 4],\n",
    "            [2, 1, 4]])\n",
    "\n",
    "#initialize weight matrix\n",
    "np.random.seed(1)\n",
    "W = np.random.random((3,4))\n",
    "print(\"W Weighted Matrix : \")\n",
    "print(W)\n",
    "\n",
    "print(\"V Weighted Matrix : \")\n",
    "V = np.random.random((4,2))\n",
    "print(V)\n",
    "\n",
    "for iteration in range(1):\n",
    "    iLayer = D\n",
    "    \n",
    "    hP = np.dot(iLayer, W) #Hidden Layer\n",
    "    hLayer = 1/(1+np.exp(-hP)) \n",
    "    \n",
    "    oP = np.dot(hLayer, V)\n",
    "    oLayer = 1/(1+np.exp(-oP)) #Output Layer\n",
    "    \n",
    "print(\"Input: \")\n",
    "print(D)\n",
    "print(\"Predicted Output: \")\n",
    "print(oLayer)"
   ]
  },
  {
   "cell_type": "code",
   "execution_count": null,
   "id": "80a1324f-6036-44b3-b90d-f1a752ffed55",
   "metadata": {},
   "outputs": [],
   "source": []
  }
 ],
 "metadata": {
  "kernelspec": {
   "display_name": "Python 3 (ipykernel)",
   "language": "python",
   "name": "python3"
  },
  "language_info": {
   "codemirror_mode": {
    "name": "ipython",
    "version": 3
   },
   "file_extension": ".py",
   "mimetype": "text/x-python",
   "name": "python",
   "nbconvert_exporter": "python",
   "pygments_lexer": "ipython3",
   "version": "3.9.13"
  }
 },
 "nbformat": 4,
 "nbformat_minor": 5
}
