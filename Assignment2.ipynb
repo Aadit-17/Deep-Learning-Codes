{
 "cells": [
  {
   "cell_type": "markdown",
   "id": "53884b6f-8061-42fe-a10e-e688b19148eb",
   "metadata": {},
   "source": [
    "## Neural Network Topology [Feedback]"
   ]
  },
  {
   "cell_type": "markdown",
   "id": "aec25be4-a1e2-4857-b43f-6b2e7c0f4368",
   "metadata": {},
   "source": [
    "#### Q1 Write a Python Program to train the following Neural Network with single neuron. Let you start to train the network with w=3, 6 and 9. Update the Weights using back propagation."
   ]
  },
  {
   "cell_type": "code",
   "execution_count": 1,
   "id": "ed60ec4a-72eb-45f8-a88e-37d6b86b4347",
   "metadata": {},
   "outputs": [
    {
     "name": "stdout",
     "output_type": "stream",
     "text": [
      "--------Output at Iteration---------- 0\n",
      "Predicted Output:  [ 0  3  6  9 12]\n",
      "Desired Output:  [ 0  6 12 18 24]\n",
      "Errors [  0  -3  -6  -9 -12]\n",
      "MSE 54.0\n",
      "--------Output at Iteration---------- 1\n",
      "Predicted Output:  [ 0  4  8 12 16]\n",
      "Desired Output:  [ 0  6 12 18 24]\n",
      "Errors [ 0 -2 -4 -6 -8]\n",
      "MSE 24.0\n",
      "--------Output at Iteration---------- 2\n",
      "Predicted Output:  [ 0  5 10 15 20]\n",
      "Desired Output:  [ 0  6 12 18 24]\n",
      "Errors [ 0 -1 -2 -3 -4]\n",
      "MSE 6.0\n",
      "--------Output at Iteration---------- 3\n",
      "Predicted Output:  [ 0  6 12 18 24]\n",
      "Desired Output:  [ 0  6 12 18 24]\n",
      "Errors [0 0 0 0 0]\n",
      "MSE 0.0\n"
     ]
    },
    {
     "name": "stdin",
     "output_type": "stream",
     "text": [
      "Enter test case:  12\n"
     ]
    },
    {
     "name": "stdout",
     "output_type": "stream",
     "text": [
      "72\n"
     ]
    }
   ],
   "source": [
    "import numpy as np\n",
    "\n",
    "train_inputs = np.array([0,1,2,3,4])\n",
    "train_outputs = np.array([0,6,12,18,24])\n",
    "\n",
    "Weight=3\n",
    "for i in range(5):\n",
    "    pred_output=train_inputs*Weight\n",
    "    error=pred_output-train_outputs\n",
    "    mse=np.square(error).mean()\n",
    "    \n",
    "    Weight=Weight+1\n",
    "    print(\"--------Output at Iteration----------\",i)\n",
    "    print(\"Predicted Output: \",pred_output)\n",
    "    print(\"Desired Output: \",train_outputs)\n",
    "    print(\"Errors\",error)\n",
    "    print(\"MSE\",mse)\n",
    "    if(mse==0):\n",
    "        Weight -= 1\n",
    "        break\n",
    "        \n",
    "x = int(input(\"Enter test case: \"))\n",
    "output = x*Weight\n",
    "print(output)"
   ]
  },
  {
   "cell_type": "markdown",
   "id": "6a1ff05a-9201-4d83-a1d7-9313cbb0db29",
   "metadata": {},
   "source": [
    "#### Q2 Use Perceptron Rule for Training / Weight Updation during backpropagation"
   ]
  },
  {
   "cell_type": "code",
   "execution_count": 2,
   "id": "5b19dd39-7dbc-41c2-9450-608900ab5fec",
   "metadata": {},
   "outputs": [
    {
     "name": "stdout",
     "output_type": "stream",
     "text": [
      "--------Output at Iteration---------- 0\n",
      "Predicted Output:  [ 0  6 12 18 24]\n",
      "Desired Output:  [ 0  6 12 18]\n",
      "Errors 0\n",
      "MSE 0\n",
      "--------Output at Iteration---------- 0\n",
      "Predicted Output:  [ 0  3 12 18 24]\n",
      "Desired Output:  [ 0  6 12 18]\n",
      "Errors -3\n",
      "MSE 9\n",
      "--------Output at Iteration---------- 0\n",
      "Predicted Output:  [ 0  3  6 18 24]\n",
      "Desired Output:  [ 0  6 12 18]\n",
      "Errors -6\n",
      "MSE 36\n",
      "--------Output at Iteration---------- 0\n",
      "Predicted Output:  [ 0  3  6 11 24]\n",
      "Desired Output:  [ 0  6 12 18]\n",
      "Errors -7\n",
      "MSE 49\n",
      "--------Output at Iteration---------- 500\n",
      "Predicted Output:  [ 0  6 12 18 24]\n",
      "Desired Output:  [ 0  6 12 18]\n",
      "Errors 0\n",
      "MSE 0\n",
      "--------Output at Iteration---------- 500\n",
      "Predicted Output:  [ 0  6 12 18 24]\n",
      "Desired Output:  [ 0  6 12 18]\n",
      "Errors 0\n",
      "MSE 0\n",
      "--------Output at Iteration---------- 500\n",
      "Predicted Output:  [ 0  6 12 18 24]\n",
      "Desired Output:  [ 0  6 12 18]\n",
      "Errors 0\n",
      "MSE 0\n",
      "--------Output at Iteration---------- 500\n",
      "Predicted Output:  [ 0  6 12 18 24]\n",
      "Desired Output:  [ 0  6 12 18]\n",
      "Errors 0\n",
      "MSE 0\n",
      "--------Output at Iteration---------- 999\n",
      "Predicted Output:  [ 0  6 12 18 24]\n",
      "Desired Output:  [ 0  6 12 18]\n",
      "Errors 0\n",
      "MSE 0\n",
      "--------Output at Iteration---------- 999\n",
      "Predicted Output:  [ 0  6 12 18 24]\n",
      "Desired Output:  [ 0  6 12 18]\n",
      "Errors 0\n",
      "MSE 0\n",
      "--------Output at Iteration---------- 999\n",
      "Predicted Output:  [ 0  6 12 18 24]\n",
      "Desired Output:  [ 0  6 12 18]\n",
      "Errors 0\n",
      "MSE 0\n",
      "--------Output at Iteration---------- 999\n",
      "Predicted Output:  [ 0  6 12 18 24]\n",
      "Desired Output:  [ 0  6 12 18]\n",
      "Errors 0\n",
      "MSE 0\n",
      "\n",
      "--------Final Output----------\n",
      "Final Weight:  6.099999999999999\n",
      "Input: 0, Predicted Output: 0.0, Desired Output: 0\n",
      "Input: 1, Predicted Output: 6.099999999999999, Desired Output: 6\n",
      "Input: 2, Predicted Output: 12.199999999999998, Desired Output: 12\n",
      "Input: 3, Predicted Output: 18.299999999999997, Desired Output: 18\n"
     ]
    }
   ],
   "source": [
    "train_inputs = np.array([0,1,2,3])\n",
    "train_outputs = np.array([0,6,12,18])\n",
    "\n",
    "Weight=3\n",
    "lr=0.05\n",
    "epochs = 1000\n",
    "for i in range(epochs):\n",
    "    for k in range(4):\n",
    "        pred_output[k]=train_inputs[k]*Weight\n",
    "        error=pred_output[k]-train_outputs[k]\n",
    "        mse=np.square(error)\n",
    "        if(int(mse)!=0):\n",
    "            Weight-=lr*(error)*train_inputs[k]\n",
    "        if i % 500 == 0 or i == epochs - 1:\n",
    "            print(\"--------Output at Iteration----------\",i)\n",
    "            print(\"Predicted Output: \",pred_output)\n",
    "            print(\"Desired Output: \",train_outputs)\n",
    "            print(\"Errors\",error)\n",
    "            print(\"MSE\",mse)\n",
    "\n",
    "print(\"\\n--------Final Output----------\")\n",
    "print(\"Final Weight: \", Weight)\n",
    "for k in range(len(train_inputs)):\n",
    "    pred_output = train_inputs[k] * Weight\n",
    "    print(f\"Input: {train_inputs[k]}, Predicted Output: {pred_output}, Desired Output: {train_outputs[k]}\")"
   ]
  },
  {
   "cell_type": "markdown",
   "id": "01ff26d2-609b-43d7-8706-aa69d9b480cc",
   "metadata": {},
   "source": [
    "#### Q3 Construct a Feedback Neural Network with Single Neuron to train the OR Gate and AND Gate Operations separatetly with initial weight w1=0.6 and w2=0.6 using perceptron training rule "
   ]
  },
  {
   "cell_type": "code",
   "execution_count": 3,
   "id": "e477c026-3cc7-4e35-b009-9aa635a2c7fa",
   "metadata": {},
   "outputs": [
    {
     "name": "stdout",
     "output_type": "stream",
     "text": [
      "Training Perceptron for OR Gate\n",
      "Epoch 1/5\n",
      "Weights: [0.6 0.6]\n",
      "Epoch 2/5\n",
      "Weights: [0.6 0.6]\n",
      "Epoch 3/5\n",
      "Weights: [0.6 0.6]\n",
      "Epoch 4/5\n",
      "Weights: [0.6 0.6]\n",
      "Epoch 5/5\n",
      "Weights: [0.6 0.6]\n",
      "Final Weights for OR Gate: [0.6 0.6]\n",
      "\n",
      "Training Perceptron for AND Gate\n",
      "Epoch 1/5\n",
      "Weights: [0.5 0.5]\n",
      "Epoch 2/5\n",
      "Weights: [0.4 0.4]\n",
      "Epoch 3/5\n",
      "Weights: [0.4 0.4]\n",
      "Epoch 4/5\n",
      "Weights: [0.4 0.4]\n",
      "Epoch 5/5\n",
      "Weights: [0.4 0.4]\n",
      "Final Weights for AND Gate: [0.4 0.4]\n",
      "\n",
      "Testing Perceptron for OR Gate\n",
      "Input: [0 0] -> Output: 0\n",
      "Input: [0 1] -> Output: 1\n",
      "Input: [1 0] -> Output: 1\n",
      "Input: [1 1] -> Output: 1\n",
      "Testing Perceptron for AND Gate\n",
      "Input: [0 0] -> Output: 0\n",
      "Input: [0 1] -> Output: 0\n",
      "Input: [1 0] -> Output: 0\n",
      "Input: [1 1] -> Output: 1\n"
     ]
    }
   ],
   "source": [
    "import numpy as np\n",
    "\n",
    "# Activation function\n",
    "def activation(out, threshold):\n",
    "    return 1 if out >= threshold else 0\n",
    "\n",
    "# Perceptron training function\n",
    "def train_perceptron(train_inputs, train_outputs, learning_rate, epochs):\n",
    "    weights = np.array([0.6, 0.6])\n",
    "    threshold = 0.5\n",
    "    for epoch in range(epochs):\n",
    "        for i in range(len(train_inputs)):\n",
    "            summation = np.dot(train_inputs[i], weights)\n",
    "            pred_output = activation(summation, threshold)\n",
    "            error = train_outputs[i] - pred_output\n",
    "            if error != 0:\n",
    "                weights += learning_rate * error * train_inputs[i]\n",
    "        print(f\"Epoch {epoch + 1}/{epochs}\")\n",
    "        print(f\"Weights: {weights}\")\n",
    "    return weights\n",
    "\n",
    "# Training for OR gate\n",
    "train_inputs_or = np.array([[0, 0], [0, 1], [1, 0], [1, 1]])\n",
    "train_outputs_or = np.array([0, 1, 1, 1])\n",
    "learning_rate = 0.1\n",
    "epochs = 5\n",
    "\n",
    "print(\"Training Perceptron for OR Gate\")\n",
    "weights_or = train_perceptron(train_inputs_or, train_outputs_or, learning_rate, epochs)\n",
    "print(f\"Final Weights for OR Gate: {weights_or}\\n\")\n",
    "\n",
    "# Training for AND gate\n",
    "train_inputs_and = np.array([[0, 0], [0, 1], [1, 0], [1, 1]])\n",
    "train_outputs_and = np.array([0, 0, 0, 1])\n",
    "\n",
    "print(\"Training Perceptron for AND Gate\")\n",
    "weights_and = train_perceptron(train_inputs_and, train_outputs_and, learning_rate, epochs)\n",
    "print(f\"Final Weights for AND Gate: {weights_and}\\n\")\n",
    "\n",
    "# Prediction function\n",
    "def perceptron_predict(input_data, weights, threshold=0.5):\n",
    "    summation = np.dot(input_data, weights)\n",
    "    return activation(summation, threshold)\n",
    "\n",
    "def test_perceptron(train_inputs, weights, gate_name):\n",
    "    print(f\"Testing Perceptron for {gate_name} Gate\")\n",
    "    for inputs in train_inputs:\n",
    "        output = perceptron_predict(inputs, weights)\n",
    "        print(f\"Input: {inputs} -> Output: {output}\")\n",
    "\n",
    "test_perceptron(train_inputs_or, weights_or, \"OR\")\n",
    "test_perceptron(train_inputs_and, weights_and, \"AND\")"
   ]
  },
  {
   "cell_type": "markdown",
   "id": "51484ac7-ceed-4c49-a1da-6f694a7f671a",
   "metadata": {},
   "source": [
    "#### Q4 Implement a common learning algorithm called\"Gradient Descent\" for linear regression withexample data.Update the parameters of the model such that it fits the data and use a lossfunction to measure how well your model fits the data\n",
    "#### Step:1\n",
    "#### Assume X[1,2,3] and y[98,185,275] with w0=1.5 and w1=80 as the initial value of the parameters Calculate the MSE Loss with updated parameters in each iteration."
   ]
  },
  {
   "cell_type": "code",
   "execution_count": 4,
   "id": "747f537d-ac01-464e-a77d-f9980f6c2a16",
   "metadata": {},
   "outputs": [
    {
     "name": "stdout",
     "output_type": "stream",
     "text": [
      "Epoch 0, MSE: 72469.274\n",
      "Epoch 500, MSE: 2.03822632437718\n",
      "Epoch 999, MSE: 0.08686991891396718\n",
      "Final parameters: w0 = -0.41254354140430277, w1 = 1.1215486936398205\n"
     ]
    },
    {
     "data": {
      "image/png": "[encoded data removed]",
      "text/plain": [
       "<Figure size 640x480 with 1 Axes>"
      ]
     },
     "metadata": {},
     "output_type": "display_data"
    },
    {
     "data": {
      "image/png": "[encoded data removed]",
      "text/plain": [
       "<Figure size 640x480 with 1 Axes>"
      ]
     },
     "metadata": {},
     "output_type": "display_data"
    }
   ],
   "source": [
    "import numpy as np\n",
    "import matplotlib.pyplot as plt\n",
    "\n",
    "# Example data\n",
    "x=np.array([1,2,3,4.3,5])\n",
    "y=np.array([1,2.3,3.1,4.1,5.1])\n",
    "\n",
    "w0 = 1.5\n",
    "w1 = 80\n",
    "epochs = 1000\n",
    "learning_rate = 0.01\n",
    "\n",
    "mse_history = []\n",
    "\n",
    "for i in range(epochs):\n",
    "    y_pred = w0 + w1 * x\n",
    "    \n",
    "    mse = np.mean((y - y_pred) ** 2)\n",
    "    mse_history.append(mse)\n",
    "\n",
    "    w0_gradient = -2 * np.mean(y - y_pred)\n",
    "    w1_gradient = -2 * np.mean((y - y_pred) * x)\n",
    "    \n",
    "    w0 -= learning_rate * w0_gradient\n",
    "    w1 -= learning_rate * w1_gradient\n",
    "\n",
    "    if i % 500 == 0 or i == epochs - 1:\n",
    "        print(f\"Epoch {i}, MSE: {mse}\")\n",
    "\n",
    "print(f\"Final parameters: w0 = {w0}, w1 = {w1}\")\n",
    "\n",
    "# Plotting the results\n",
    "plt.scatter(x, y, label=\"Data Points\")\n",
    "plt.plot(x, w0 + w1 * x, color=\"red\", label=\"Linear Fit\")\n",
    "plt.xlabel(\"Input X\")\n",
    "plt.ylabel(\"Output Y\")\n",
    "plt.legend()\n",
    "plt.show()\n",
    "\n",
    "# Plotting MSE history\n",
    "plt.plot(range(epochs), mse_history, label=\"MSE\")\n",
    "plt.xlabel(\"Epochs\")\n",
    "plt.ylabel(\"MSE\")\n",
    "plt.legend()\n",
    "plt.show()"
   ]
  },
  {
   "cell_type": "markdown",
   "id": "70394611-ec86-4a85-9840-2cfd922f0b10",
   "metadata": {},
   "source": [
    "#### Q5 Construct a feedback neural network using 1 Neuron in the output layer and 3 neurons in the input layer. Use Gradient Descent algorithm/Rule to Update the weights based on the mean of squared error."
   ]
  },
  {
   "cell_type": "code",
   "execution_count": 5,
   "id": "be50eef1-cc8a-4d28-94a2-ffd077ea2fef",
   "metadata": {},
   "outputs": [
    {
     "name": "stdout",
     "output_type": "stream",
     "text": [
      "Iteration 0, MSE: 0.5\n",
      "Iteration 500, MSE: 0.5\n",
      "Iteration 999, MSE: 0.5\n",
      "\n",
      "Final Weights:\n",
      "[[4.17022005e-01]\n",
      " [7.20324493e-01]\n",
      " [1.14374817e-04]]\n",
      "\n",
      "Output Layer after Training:\n",
      "[[1.]\n",
      " [1.]\n",
      " [1.]\n",
      " [1.]]\n"
     ]
    }
   ],
   "source": [
    "import numpy as np\n",
    "\n",
    "D = np.array([[4, 500, 6],\n",
    "              [4, 550, 5.5],\n",
    "              [2, 200, 3.5],\n",
    "              [2, 250, 4]])\n",
    "\n",
    "label = np.array([[1], [1], [0], [0]])\n",
    "\n",
    "np.random.seed(1)\n",
    "w = np.random.random((3, 1))\n",
    "learning_rate = 0.01\n",
    "epochs = 1000\n",
    "\n",
    "def sigmoid(x):\n",
    "    return 1 / (1 + np.exp(-x))\n",
    "\n",
    "def sigmoid_derivative(x):\n",
    "    return x * (1 - x)\n",
    "\n",
    "for iteration in range(epochs):\n",
    "    # Forward pass\n",
    "    p = np.dot(D, w) # Perception\n",
    "    oLayer = sigmoid(p) # Sigmoid activation\n",
    "    \n",
    "    mse = np.mean((label - oLayer) ** 2)\n",
    "\n",
    "    if iteration % 500 == 0 or iteration == epochs - 1:\n",
    "        print(f\"Iteration {iteration}, MSE: {mse}\")\n",
    "    \n",
    "    error = label - oLayer\n",
    "    der = sigmoid_derivative(oLayer)\n",
    "    grad = np.dot(D.T, error * der)\n",
    "    w += learning_rate * grad\n",
    "\n",
    "print(\"\\nFinal Weights:\")\n",
    "print(w)\n",
    "print(\"\\nOutput Layer after Training:\")\n",
    "print(oLayer)"
   ]
  },
  {
   "cell_type": "markdown",
   "id": "a8798234-2d1b-4d7c-90bd-53c5dc4fe9fb",
   "metadata": {},
   "source": [
    "#### Q6  Construct a feedback neural network using 1 Neuron in the output layer, 3 neurons in the input layer and 4 neuron in the hidden layer. Use Gradient Descent algorithm/Rule to Update the weights based on the mean of squared error."
   ]
  },
  {
   "cell_type": "code",
   "execution_count": 6,
   "id": "714beb6b-5bfa-4b3e-b3e8-17bf95daf4d9",
   "metadata": {},
   "outputs": [
    {
     "name": "stdout",
     "output_type": "stream",
     "text": [
      "Iteration 0, MSE: 0.3765575721763921\n",
      "Iteration 500, MSE: 0.25003133159473057\n",
      "Iteration 999, MSE: 0.2500000013710939\n",
      "\n",
      "Final Weights (input to hidden layer):\n",
      "[[4.17022005e-01 7.20324493e-01 1.14374817e-04 3.02332573e-01]\n",
      " [1.46755891e-01 9.23385500e-02 1.86260211e-01 3.45560727e-01]\n",
      " [3.96767474e-01 5.38816733e-01 4.19194514e-01 6.85219500e-01]]\n",
      "\n",
      "Final Weights (hidden to output layer):\n",
      "[[-0.24061717]\n",
      " [ 0.43304802]\n",
      " [-0.41768182]\n",
      " [ 0.2253981 ]]\n",
      "\n",
      "Output Layer after Training:\n",
      "[[0.50003715]\n",
      " [0.50003715]\n",
      " [0.50003715]\n",
      " [0.50003715]]\n"
     ]
    }
   ],
   "source": [
    "import numpy as np\n",
    "\n",
    "D = np.array([[4, 500, 6],\n",
    "              [4, 550, 5.5],\n",
    "              [2, 200, 3.5],\n",
    "              [2, 250, 4]])\n",
    "\n",
    "label = np.array([[1], [1], [0], [0]])\n",
    "\n",
    "np.random.seed(1)\n",
    "w = np.random.random((3, 4))\n",
    "v = np.random.random((4, 1))\n",
    "learning_rate = 0.01\n",
    "epochs = 1000\n",
    "\n",
    "def sigmoid(x):\n",
    "    return 1 / (1 + np.exp(-x))\n",
    "\n",
    "def sigmoid_derivative(x):\n",
    "    return x * (1 - x)\n",
    "\n",
    "for iteration in range(epochs):\n",
    "    hP = np.dot(D, w) # Perception\n",
    "    hLayer = sigmoid(hP) # Sigmoid activation\n",
    "    \n",
    "    oP = np.dot(hLayer, v) # Perception\n",
    "    oLayer = sigmoid(oP) # Sigmoid activation\n",
    "    \n",
    "    mse = np.mean((label - oLayer) ** 2)\n",
    "    \n",
    "    if iteration % 500 == 0 or iteration == epochs - 1:\n",
    "        print(f\"Iteration {iteration}, MSE: {mse}\")\n",
    "    \n",
    "    oError = label - oLayer\n",
    "    oDelta = oError * sigmoid_derivative(oLayer)\n",
    "    \n",
    "    hError = oDelta.dot(v.T)\n",
    "    hDelta = hError * sigmoid_derivative(hLayer)\n",
    "\n",
    "    v += learning_rate * hLayer.T.dot(oDelta)\n",
    "    w += learning_rate * D.T.dot(hDelta)\n",
    "\n",
    "print(\"\\nFinal Weights (input to hidden layer):\")\n",
    "print(w)\n",
    "print(\"\\nFinal Weights (hidden to output layer):\")\n",
    "print(v)\n",
    "print(\"\\nOutput Layer after Training:\")\n",
    "print(oLayer)"
   ]
  },
  {
   "cell_type": "markdown",
   "id": "bf52955e-b307-4539-8efd-b301044e671b",
   "metadata": {},
   "source": [
    "#### Q7 Read the content from Insurance_data.csv, build a FBNN to apply a classification of insurance"
   ]
  },
  {
   "cell_type": "code",
   "execution_count": 7,
   "id": "bd5bdf0a-7566-4014-9470-2f9198043f9b",
   "metadata": {},
   "outputs": [
    {
     "name": "stdout",
     "output_type": "stream",
     "text": [
      "Epoch 0, Loss: 0.5765443464665675\n",
      "Epoch 500, Loss: 0.4912787201527695\n",
      "Epoch 999, Loss: 0.4788931373447956\n",
      "\n",
      "Final weights: [1.25681801 0.6275288 ]\n",
      "Final bias: [0.16097224]\n",
      "\n",
      "Accuracy: 0.7692307692307693\n"
     ]
    }
   ],
   "source": [
    "import numpy as np\n",
    "import pandas as pd\n",
    "\n",
    "data = pd.read_csv('insurance_data.csv')\n",
    "\n",
    "X = data[['age', 'affordability']].values\n",
    "y = data['have_insurance'].values\n",
    "\n",
    "X = (X - X.mean(axis=0)) / X.std(axis=0)\n",
    "\n",
    "np.random.seed(1)\n",
    "w = np.random.rand(2)\n",
    "bias = np.random.rand(1)\n",
    "learning_rate = 0.01\n",
    "epochs = 1000\n",
    "\n",
    "def sigmoid(x):\n",
    "    return 1 / (1 + np.exp(-x))\n",
    "\n",
    "for epoch in range(epochs):\n",
    "    # Forward pass\n",
    "    y_pred = sigmoid(np.dot(X, w) + bias)\n",
    "    \n",
    "    loss = -np.mean(y * np.log(y_pred) + (1 - y) * np.log(1 - y_pred))\n",
    "    \n",
    "    # Backward pass (Gradient Descent)\n",
    "    error = y_pred - y\n",
    "    dw = np.dot(X.T, error) / len(y)\n",
    "    db = np.mean(error)\n",
    "    \n",
    "    w -= learning_rate * dw\n",
    "    bias -= learning_rate * db\n",
    "    \n",
    "    if epoch % 500 == 0 or epoch==epochs-1:\n",
    "        print(f'Epoch {epoch}, Loss: {loss}')\n",
    "\n",
    "print(\"\\nFinal weights:\", w)\n",
    "print(\"Final bias:\", bias)\n",
    "\n",
    "y_pred_class = (y_pred >= 0.5).astype(int)\n",
    "\n",
    "accuracy = np.mean(y_pred_class == y)\n",
    "print(f'\\nAccuracy: {accuracy}')"
   ]
  },
  {
   "cell_type": "markdown",
   "id": "cbce780f-5006-4ebb-954d-d964db828430",
   "metadata": {},
   "source": [
    "## Loss and Gradient Descent"
   ]
  },
  {
   "cell_type": "markdown",
   "id": "9d83aae1-3de6-4e22-9b7c-137f40754160",
   "metadata": {},
   "source": [
    "#### Q1 Calculate MAE and MSE using Python"
   ]
  },
  {
   "cell_type": "code",
   "execution_count": 8,
   "id": "5b095aac-adcc-4adf-8a97-d8ecd4d9797a",
   "metadata": {},
   "outputs": [
    {
     "data": {
      "image/png": "[encoded data removed]",
      "text/plain": [
       "<Figure size 900x500 with 1 Axes>"
      ]
     },
     "metadata": {},
     "output_type": "display_data"
    },
    {
     "name": "stdout",
     "output_type": "stream",
     "text": [
      "Mean Absolute Error:  0.5833333333333334\n",
      "Mean Square Error:  0.75\n"
     ]
    }
   ],
   "source": [
    "import math \n",
    "import numpy as np\n",
    "import matplotlib.pyplot as plt\n",
    "\n",
    "y = np.array([-3, -1, -2, 1, -1, 1, 2, 1, 3, 4, 3, 5])\n",
    "yhat = np.array([-2, 1, -1, 0, -1, 1, 2, 2, 3, 3, 3, 5])\n",
    "x = list(range(len(y)))\n",
    "\n",
    "plt.figure(figsize=(9,5))\n",
    "plt.scatter(x, y, color = \"red\", label = \"original\")\n",
    "plt.plot(x, yhat, color=\"green\", label=\"predicted\")\n",
    "plt.legend()\n",
    "plt.show()\n",
    "\n",
    "d = y - yhat\n",
    "mae_f = np.mean(abs(d))\n",
    "mse_f = np.mean(d**2)\n",
    "\n",
    "print(\"Mean Absolute Error: \", mae_f)\n",
    "print(\"Mean Square Error: \", mse_f)"
   ]
  },
  {
   "cell_type": "markdown",
   "id": "4963bd13-f564-4deb-92ed-e02cf6042612",
   "metadata": {},
   "source": [
    "#### Q2 Write a Python Program to find out the Binary Cross-Entropy"
   ]
  },
  {
   "cell_type": "code",
   "execution_count": 9,
   "id": "af2e6546-981e-4c6a-908f-b7b2e5900e0b",
   "metadata": {},
   "outputs": [
    {
     "name": "stdout",
     "output_type": "stream",
     "text": [
      ">[y=1.0, yhat=0.7] cross entropy: 0.357\n",
      ">[y=1.0, yhat=0.9] cross entropy: 0.105\n",
      ">[y=1.0, yhat=0.8] cross entropy: 0.223\n",
      ">[y=1.0, yhat=0.8] cross entropy: 0.223\n",
      ">[y=1.0, yhat=0.6] cross entropy: 0.511\n",
      ">[y=0.0, yhat=0.2] cross entropy: 0.223\n",
      ">[y=0.0, yhat=0.1] cross entropy: 0.105\n",
      ">[y=0.0, yhat=0.4] cross entropy: 0.511\n",
      ">[y=0.0, yhat=0.1] cross entropy: 0.105\n",
      ">[y=0.0, yhat=0.3] cross entropy: 0.357\n",
      "\n",
      "Average Cross Entropy: 0.272\n"
     ]
    }
   ],
   "source": [
    "import numpy as np\n",
    "\n",
    "# Calculate Cross Entropy\n",
    "def cross_entropy_funct(p, q):\n",
    "    return -sum([p[i] * np.log(q[i]) for i in range(len(p))])\n",
    "\n",
    "# Define Classification data p and q\n",
    "p = [1, 1, 1, 1, 1, 0, 0, 0, 0, 0]\n",
    "q = [0.7, 0.9, 0.8, 0.8, 0.6, 0.2, 0.1, 0.4, 0.1, 0.3]\n",
    "\n",
    "# Calculate Cross Entropy For Each Example\n",
    "results = list()\n",
    "for i in range(len(p)):\n",
    "    # Create the distribution for each event {0,1}\n",
    "    expected = [1.0 - p[i], p[i]]\n",
    "    predicted = [1.0 - q[i], q[i]]\n",
    "    # Calculate Cross Entropy for the two events \n",
    "    cross = cross_entropy_funct(expected, predicted)\n",
    "    print('>[y=%.1f, yhat=%.1f] cross entropy: %.3f' % (p[i], q[i], cross))\n",
    "    results.append(cross)\n",
    "\n",
    "# Calculate the Average Cross Entropy\n",
    "mean_cross_entropy = np.mean(results)\n",
    "print('\\nAverage Cross Entropy: %.3f' % mean_cross_entropy)"
   ]
  },
  {
   "cell_type": "markdown",
   "id": "e731503f-bde0-49fd-8cd5-bbac0b5d06d1",
   "metadata": {},
   "source": [
    "#### Q3 Implement the Gradient Descent Algorithm for updating of weights and sigmoid function as the activation of the output"
   ]
  },
  {
   "cell_type": "code",
   "execution_count": 10,
   "id": "9fca41eb-e13c-4b06-b094-0f886e900b10",
   "metadata": {},
   "outputs": [
    {
     "name": "stdout",
     "output_type": "stream",
     "text": [
      "Epoch 0, w: -1.99450768078436, b: -1.9922888407847856, error: 0.41572985510220245\n",
      "Epoch 100, w: 1.0178176535179475, b: -1.0756767630747825, error: 0.016913733254885384\n",
      "Epoch 200, w: 1.6093882322796484, b: -2.0158985309544057, error: 0.0006042390941086365\n",
      "Epoch 300, w: 1.7333043719547918, b: -2.19855125470132, error: 5.575967872999215e-05\n",
      "Epoch 400, w: 1.7716827184664272, b: -2.2536739657280194, error: 6.350189866144503e-06\n",
      "Epoch 500, w: 1.784717647936579, b: -2.2722060802366597, error: 7.717242724659306e-07\n",
      "Epoch 600, w: 1.7892721293656126, b: -2.2786567379335714, error: 9.587201766370104e-08\n",
      "Epoch 700, w: 1.7908787284883319, b: -2.2809290885780746, error: 1.2002062151925574e-08\n",
      "Epoch 800, w: 1.7914473394725916, b: -2.2817329288272514, error: 1.5065915190439192e-09\n",
      "Epoch 900, w: 1.7916488184247075, b: -2.282017708083497, error: 1.8930024796167204e-10\n",
      "Final weights: w = 1.7917198301022377, b = -2.2821180729166732\n"
     ]
    }
   ],
   "source": [
    "import numpy as np\n",
    "\n",
    "X = [0.5, 2.5]\n",
    "Y = [0.2, 0.9]\n",
    "\n",
    "def f(w, b, x):\n",
    "    return 1.0 / (1.0 + np.exp(-(w * x + b)))\n",
    "\n",
    "def error(w, b):\n",
    "    err = 0.0\n",
    "    for x, y in zip(X, Y):\n",
    "        fx = f(w, b, x)\n",
    "        err += 0.5 * (fx - y) ** 2\n",
    "    return err\n",
    "\n",
    "def grad_b(w, b, x, y):\n",
    "    fx = f(w, b, x)\n",
    "    return (fx - y) * fx * (1 - fx)\n",
    "\n",
    "def grad_w(w, b, x, y):\n",
    "    fx = f(w, b, x)\n",
    "    return (fx - y) * fx * (1 - fx) * x\n",
    "\n",
    "def do_gradient_descent():\n",
    "    w, b, eta = -2, -2, 1.0\n",
    "    max_epochs = 1000\n",
    "    for i in range(max_epochs):\n",
    "        dw, db = 0, 0\n",
    "        for x, y in zip(X, Y):\n",
    "            dw += grad_w(w, b, x, y)\n",
    "            db += grad_b(w, b, x, y)\n",
    "        w = w - eta * dw\n",
    "        b = b - eta * db\n",
    "        \n",
    "        if i % 100 == 0:  # Print progress every 100 epochs\n",
    "            print(f\"Epoch {i}, w: {w}, b: {b}, error: {error(w, b)}\")\n",
    "\n",
    "    return w, b\n",
    "\n",
    "final_w, final_b = do_gradient_descent()\n",
    "print(f\"Final weights: w = {final_w}, b = {final_b}\")"
   ]
  },
  {
   "cell_type": "code",
   "execution_count": null,
   "id": "b054e2c3-f2a9-4527-aebc-e3c757fee3ed",
   "metadata": {},
   "outputs": [],
   "source": []
  }
 ],
 "metadata": {
  "kernelspec": {
   "display_name": "Python 3 (ipykernel)",
   "language": "python",
   "name": "python3"
  },
  "language_info": {
   "codemirror_mode": {
    "name": "ipython",
    "version": 3
   },
   "file_extension": ".py",
   "mimetype": "text/x-python",
   "name": "python",
   "nbconvert_exporter": "python",
   "pygments_lexer": "ipython3",
   "version": "3.9.13"
  }
 },
 "nbformat": 4,
 "nbformat_minor": 5
}
